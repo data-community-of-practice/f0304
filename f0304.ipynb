{
 "cells": [
  {
   "cell_type": "markdown",
   "metadata": {},
   "source": [
    "# Compare Relationships across all labels between 2 versions"
   ]
  },
  {
   "cell_type": "markdown",
   "metadata": {},
   "source": [
    "## Importing"
   ]
  },
  {
   "cell_type": "code",
   "execution_count": null,
   "metadata": {},
   "outputs": [],
   "source": [
    "import os\n",
    "import logging\n",
    "import configparser\n",
    "import pandas as pd\n",
    "from neo4j import GraphDatabase"
   ]
  },
  {
   "cell_type": "markdown",
   "metadata": {},
   "source": [
    "## Get Current Path"
   ]
  },
  {
   "cell_type": "code",
   "execution_count": null,
   "metadata": {},
   "outputs": [],
   "source": [
    "# Setup\n",
    "current_path = os.path.dirname(os.path.realpath(\"relationships.ipynb\"))\n",
    "# current_path = os.path.dirname(os.path.realpath('f0153.ipynb'))"
   ]
  },
  {
   "cell_type": "markdown",
   "metadata": {},
   "source": [
    "## Read Config File "
   ]
  },
  {
   "cell_type": "code",
   "execution_count": null,
   "metadata": {},
   "outputs": [],
   "source": [
    "config = configparser.ConfigParser()\n",
    "config.read(f\"{current_path}/config.ini\")\n",
    "\n",
    "neo4j_uri_old = config['DEFAULT']['Neo4j-Uri-old']\n",
    "neo4j_uri_new = config['DEFAULT']['Neo4j-Uri-new']\n",
    "username = config['DEFAULT']['Neo4j-Username']\n",
    "password_old = config['DEFAULT']['Neo4j-Password-old']\n",
    "password_new = config['DEFAULT']['Neo4j-Password-new']\n",
    "output_folder = config['DEFAULT']['Output-Folder']"
   ]
  },
  {
   "cell_type": "markdown",
   "metadata": {},
   "source": [
    "## Setup Log "
   ]
  },
  {
   "cell_type": "code",
   "execution_count": null,
   "metadata": {},
   "outputs": [],
   "source": [
    "logging.basicConfig(\n",
    "    filename=f\"{current_path}/relationship_diff_all.log\",\n",
    "    level=logging.INFO,\n",
    "    format='%(asctime)s | %(levelname)s | %(message)s'\n",
    ")\n",
    "\n",
    "print(\"Comparing relationship differences by start label\")"
   ]
  },
  {
   "cell_type": "markdown",
   "metadata": {},
   "source": [
    "## Helper Functions to Query Relationships "
   ]
  },
  {
   "cell_type": "code",
   "execution_count": null,
   "metadata": {},
   "outputs": [],
   "source": [
    "def run_query(driver, query):\n",
    "    with driver.session() as session:\n",
    "        result = session.run(query)\n",
    "        return pd.DataFrame([dict(r) for r in result])\n",
    "\n",
    "def get_graph_version(driver):\n",
    "    query = \"MATCH (n:version) RETURN n.version AS version LIMIT 1\"\n",
    "    try:\n",
    "        df = run_query(driver, query)\n",
    "        return df.iloc[0]['version']\n",
    "    except Exception as e:\n",
    "        logging.warning(f\"Couldn't fetch version info: {e}\")\n",
    "        return \"unknown\"\n",
    "\n",
    "def get_relationships_by_label(driver, label):\n",
    "    query = f\"\"\"\n",
    "    MATCH (a:`{label}`)-[r]->(b)\n",
    "    RETURN \n",
    "        '{label}' AS start_node_type,\n",
    "        a.source AS start_node_source,\n",
    "        type(r) AS relationship_type,\n",
    "        labels(b) AS target_node_labels,\n",
    "        b.source AS target_node_source,\n",
    "        count(*) AS count\n",
    "    \"\"\"\n",
    "    return run_query(driver, query)\n",
    "\n",
    "core_labels = [\"researcher\", \"publication\", \"dataset\", \"grant\", \"organisation\"]\n",
    "\n",
    "def resolve_target_node_type(df):\n",
    "    def match_label(label_list):\n",
    "        for lbl in core_labels:\n",
    "            if lbl in label_list:\n",
    "                return lbl\n",
    "        return \"unknown\"\n",
    "    \n",
    "    df[\"target_node_type\"] = df[\"target_node_labels\"].apply(match_label)\n",
    "    return df.drop(columns=[\"target_node_labels\"])"
   ]
  },
  {
   "cell_type": "markdown",
   "metadata": {},
   "source": [
    "## Compare Relationships for All Labels"
   ]
  },
  {
   "cell_type": "code",
   "execution_count": null,
   "metadata": {},
   "outputs": [],
   "source": [
    "# Labels to compare\n",
    "labels = core_labels\n",
    "all_diffs = []\n",
    "\n",
    "# Connect to both graphs\n",
    "driver_old = GraphDatabase.driver(neo4j_uri_old, auth=(username, password_old))\n",
    "driver_new = GraphDatabase.driver(neo4j_uri_new, auth=(username, password_new))\n",
    "\n",
    "# Get version names dynamically\n",
    "version_old = get_graph_version(driver_old)\n",
    "version_new = get_graph_version(driver_new)\n",
    "\n",
    "for label in labels:\n",
    "    try:\n",
    "        df_old = get_relationships_by_label(driver_old, label)\n",
    "        df_old = resolve_target_node_type(df_old)\n",
    "        df_new = get_relationships_by_label(driver_new, label)\n",
    "        df_new = resolve_target_node_type(df_new)\n",
    "\n",
    "        merge_cols = [\n",
    "            \"start_node_type\", \"start_node_source\",\n",
    "            \"relationship_type\", \"target_node_type\", \"target_node_source\"\n",
    "        ]\n",
    "\n",
    "        merged_df = pd.merge(\n",
    "            df_old, df_new,\n",
    "            on=merge_cols,\n",
    "            how=\"outer\",\n",
    "            suffixes=(f\"_{version_old}\", f\"_{version_new}\")\n",
    "        )\n",
    "\n",
    "        merged_df.fillna(0, inplace=True)\n",
    "\n",
    "        merged_df[\"diff\"] = (\n",
    "            merged_df[f\"count_{version_new}\"] - merged_df[f\"count_{version_old}\"]\n",
    "        )\n",
    "        ordered_cols = [\n",
    "        \"start_node_type\", \"start_node_source\", \"relationship_type\",\n",
    "        \"target_node_type\", \"target_node_source\",\n",
    "        f\"count_{version_old}\", f\"count_{version_new}\", \"diff\"\n",
    "        ]\n",
    "        merged_df = merged_df[ordered_cols]\n",
    "        all_diffs.append(merged_df)\n",
    "\n",
    "        \n",
    "        logging.info(f\"✅ Compared relationships for: {label}\")\n",
    "\n",
    "    except Exception as e:\n",
    "        logging.error(f\"❌ Failed comparing relationships for {label}: {e}\")\n",
    "\n",
    "driver_old.close()\n",
    "driver_new.close()\n",
    "\n",
    "if all_diffs:\n",
    "    final_relationship_diff = pd.concat(all_diffs)\n",
    "    final_relationship_diff.sort_values(\n",
    "        by=[\"start_node_type\", \"relationship_type\", \"diff\"], ascending=[True, True, False], inplace=True\n",
    "    )\n",
    "    final_relationship_diff.reset_index(drop=True, inplace=True)\n",
    "    final_relationship_diff\n",
    "else:\n",
    "    print(\"⚠️ No relationship differences to report.\")\n",
    "    final_relationship_diff = pd.DataFrame()\n",
    "final_relationship_diff"
   ]
  },
  {
   "cell_type": "markdown",
   "metadata": {},
   "source": [
    "## Save to CSV"
   ]
  },
  {
   "cell_type": "code",
   "execution_count": null,
   "metadata": {},
   "outputs": [],
   "source": [
    "output_file = f\"{output_folder}/relationship_diff_all_labels.csv\"\n",
    "\n",
    "try:\n",
    "    final_relationship_diff.to_csv(output_file, index=False)\n",
    "    logging.info(f\"Saved relationship diff to {output_file}\")\n",
    "    print(f\"Saved relationship diff to {output_file}\")\n",
    "except Exception as e:\n",
    "    logging.error(f\"Failed to save CSV: {e}\")\n",
    "    print(f\"Error writing file: {e}\")"
   ]
  }
 ],
 "metadata": {
  "kernelspec": {
   "display_name": "neo4j_env",
   "language": "python",
   "name": "python3"
  },
  "language_info": {
   "codemirror_mode": {
    "name": "ipython",
    "version": 3
   },
   "file_extension": ".py",
   "mimetype": "text/x-python",
   "name": "python",
   "nbconvert_exporter": "python",
   "pygments_lexer": "ipython3",
   "version": "3.9.21"
  }
 },
 "nbformat": 4,
 "nbformat_minor": 2
}
